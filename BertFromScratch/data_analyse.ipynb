{
 "cells": [
  {
   "cell_type": "markdown",
   "id": "764b20666ebac8c4",
   "metadata": {
    "collapsed": false
   },
   "source": [
    "<h3>Functionality of this file: 分析并且预处理数据集</h3>"
   ]
  },
  {
   "cell_type": "code",
   "execution_count": 1,
   "id": "initial_id",
   "metadata": {
    "ExecuteTime": {
     "end_time": "2023-11-28T21:07:57.803888Z",
     "start_time": "2023-11-28T21:07:57.789548Z"
    },
    "collapsed": true
   },
   "outputs": [],
   "source": [
    "import json\n",
    "from collections import Counter\n",
    "import random"
   ]
  },
  {
   "cell_type": "code",
   "execution_count": 2,
   "id": "8603ec92ebf46ec2",
   "metadata": {
    "ExecuteTime": {
     "end_time": "2023-11-28T21:07:59.627073Z",
     "start_time": "2023-11-28T21:07:57.794710Z"
    },
    "collapsed": false
   },
   "outputs": [],
   "source": [
    "with open('../data/cail_small/train.json','r',encoding='utf-8') as f:\n",
    "    all_train_data = []\n",
    "    for line in f.readlines():\n",
    "        line = line.replace('\\n','')\n",
    "        all_train_data.append(json.loads(line))"
   ]
  },
  {
   "cell_type": "code",
   "execution_count": 3,
   "id": "ffc6014f9dff67bc",
   "metadata": {
    "ExecuteTime": {
     "end_time": "2023-11-28T21:07:59.632482Z",
     "start_time": "2023-11-28T21:07:59.630325Z"
    },
    "collapsed": false
   },
   "outputs": [
    {
     "data": {
      "text/plain": [
       "{'fact': '昌宁县人民检察院指控，2014年4月19日下午16时许，被告人段某驾拖车经过鸡飞乡澡塘街子，时逢堵车，段某将车停在“冰凉一夏”冷饮店门口，被害人王某的侄子王2某示意段某靠边未果，后上前敲打车门让段某离开，段某遂驾车离开，但对此心生怨愤。同年4月21日22时许，被告人段某酒后与其妻子王1某一起准备回家，走到鸡飞乡澡塘街富达通讯手机店门口时停下，段某进入手机店内对被害人王某进行吼骂，紧接着从手机店出来拿得一个石头又冲进手机店内朝王某头部打去，致王某右额部粉碎性骨折、右眼眶骨骨折。经鉴定，被害人王某此次损伤程度为轻伤一级。',\n",
       " 'meta': {'relevant_articles': [234],\n",
       "  'accusation': ['故意伤害'],\n",
       "  'punish_of_money': 0,\n",
       "  'criminals': ['段某'],\n",
       "  'term_of_imprisonment': {'death_penalty': False,\n",
       "   'imprisonment': 12,\n",
       "   'life_imprisonment': False}}}"
      ]
     },
     "execution_count": 3,
     "metadata": {},
     "output_type": "execute_result"
    }
   ],
   "source": [
    "all_train_data[0]"
   ]
  },
  {
   "cell_type": "code",
   "execution_count": 4,
   "id": "30018e4e148deadc",
   "metadata": {
    "ExecuteTime": {
     "end_time": "2023-11-28T21:07:59.636032Z",
     "start_time": "2023-11-28T21:07:59.633850Z"
    },
    "collapsed": false
   },
   "outputs": [
    {
     "data": {
      "text/plain": [
       "154592"
      ]
     },
     "execution_count": 4,
     "metadata": {},
     "output_type": "execute_result"
    }
   ],
   "source": [
    "len(all_train_data)"
   ]
  },
  {
   "cell_type": "markdown",
   "id": "79bdf12fed1d1ab4",
   "metadata": {
    "collapsed": false
   },
   "source": [
    "<b>原始数据包含多个罪名，将多罪名的数据删除，法条不做处理，处理完成后法条是多分类任务，罪名是单分类任务，由于只做教学，因此只保留3成的数据，这里是随机丢弃，所以每次生成的数据不同</b>"
   ]
  },
  {
   "cell_type": "code",
   "execution_count": 5,
   "id": "fd4bfee44d9292f1",
   "metadata": {
    "ExecuteTime": {
     "end_time": "2023-11-28T21:07:59.706802Z",
     "start_time": "2023-11-28T21:07:59.649979Z"
    },
    "collapsed": false
   },
   "outputs": [
    {
     "data": {
      "text/plain": [
       "35917"
      ]
     },
     "execution_count": 5,
     "metadata": {},
     "output_type": "execute_result"
    }
   ],
   "source": [
    "final_train_data = []\n",
    "for i in all_train_data:\n",
    "    if len(i['meta']['accusation']) == 1:\n",
    "        i['meta']['accusation'][0] = i['meta']['accusation'][0].replace('[','').replace(']','')\n",
    "        if random.random() > 0.7:\n",
    "            final_train_data.append(i)\n",
    "len(final_train_data)"
   ]
  },
  {
   "cell_type": "code",
   "execution_count": 6,
   "id": "a4cf14bed90fc98b",
   "metadata": {
    "ExecuteTime": {
     "end_time": "2023-11-28T21:07:59.982543Z",
     "start_time": "2023-11-28T21:07:59.708444Z"
    },
    "collapsed": false
   },
   "outputs": [],
   "source": [
    "with open('../data/cail_small/final_train.json','w',encoding='utf-8') as f:\n",
    "    for line in final_train_data:\n",
    "        j = json.dumps(line,ensure_ascii=False)\n",
    "        f.write(j+'\\n')"
   ]
  },
  {
   "cell_type": "markdown",
   "id": "c739180dfaee35c4",
   "metadata": {
    "collapsed": false
   },
   "source": [
    "<b>生成法条表和罪名表，即将法条和罪名映射到index</b>"
   ]
  },
  {
   "cell_type": "code",
   "execution_count": 7,
   "id": "6e252183284587f0",
   "metadata": {
    "ExecuteTime": {
     "end_time": "2023-11-28T21:07:59.997449Z",
     "start_time": "2023-11-28T21:07:59.996099Z"
    },
    "collapsed": false
   },
   "outputs": [],
   "source": [
    "all_accusation = [i['meta']['accusation'][0] for i in final_train_data]\n",
    "all_accusation_counter = Counter(all_accusation)"
   ]
  },
  {
   "cell_type": "code",
   "execution_count": 8,
   "metadata": {
    "ExecuteTime": {
     "end_time": "2023-11-29T16:25:54.642945Z",
     "start_time": "2023-11-29T16:25:54.640371Z"
    },
    "collapsed": false
   },
   "outputs": [
    {
     "data": {
      "text/plain": [
       "Counter({'故意伤害': 517,\n",
       "         '盗窃': 693,\n",
       "         '诈骗': 511,\n",
       "         '聚众斗殴': 363,\n",
       "         '虚开增值税专用发票、用于骗取出口退税、抵扣税款发票': 575,\n",
       "         '强奸': 545,\n",
       "         '抢劫': 267,\n",
       "         '破坏电力设备': 97,\n",
       "         '合同诈骗': 452,\n",
       "         '信用卡诈骗': 471,\n",
       "         '保险诈骗': 83,\n",
       "         '放火': 467,\n",
       "         '寻衅滋事': 232,\n",
       "         '贷款诈骗': 47,\n",
       "         '掩饰、隐瞒犯罪所得、犯罪所得收益': 274,\n",
       "         '非法采矿': 204,\n",
       "         '过失致人重伤': 253,\n",
       "         '生产、销售有毒、有害食品': 582,\n",
       "         '危险驾驶': 345,\n",
       "         '交通肇事': 576,\n",
       "         '走私、贩卖、运输、制造毒品': 1247,\n",
       "         '故意杀人': 544,\n",
       "         '非法经营': 563,\n",
       "         '动植物检疫徇私舞弊': 24,\n",
       "         '故意毁坏财物': 407,\n",
       "         '非法持有毒品': 255,\n",
       "         '非法拘禁': 436,\n",
       "         '抢夺': 180,\n",
       "         '妨害公务': 274,\n",
       "         '挪用资金': 518,\n",
       "         '票据诈骗': 44,\n",
       "         '过失致人死亡': 534,\n",
       "         '生产、销售假药': 572,\n",
       "         '开设赌场': 400,\n",
       "         '非法持有、私藏枪支、弹药': 255,\n",
       "         '赌博': 343,\n",
       "         '非法种植毒品原植物': 570,\n",
       "         '滥伐林木': 567,\n",
       "         '生产、销售伪劣产品': 303,\n",
       "         '职务侵占': 472,\n",
       "         '受贿': 474,\n",
       "         '组织、领导传销活动': 349,\n",
       "         '敲诈勒索': 458,\n",
       "         '贪污': 400,\n",
       "         '集资诈骗': 140,\n",
       "         '破坏广播电视设施、公用电信设施': 173,\n",
       "         '拒不执行判决、裁定': 575,\n",
       "         '拒不支付劳动报酬': 543,\n",
       "         '非国家工作人员受贿': 475,\n",
       "         '单位受贿': 40,\n",
       "         '盗伐林木': 540,\n",
       "         '生产、销售不符合安全标准的食品': 561,\n",
       "         '失火': 536,\n",
       "         '非法占用农用地': 613,\n",
       "         '非法制造、买卖、运输、邮寄、储存枪支、弹药、爆炸物': 430,\n",
       "         '挪用特定款物': 13,\n",
       "         '行贿': 498,\n",
       "         '窝藏、转移、收购、销售赃物': 14,\n",
       "         '容留他人吸毒': 2,\n",
       "         '非法吸收公众存款': 566,\n",
       "         '非法猎捕、杀害珍贵、濒危野生动物': 97,\n",
       "         '重大责任事故': 572,\n",
       "         '非法收购、运输盗伐、滥伐的林木': 49,\n",
       "         '诽谤': 8,\n",
       "         '伪造、变造、买卖国家机关公文、证件、印章': 377,\n",
       "         '挪用公款': 448,\n",
       "         '金融凭证诈骗': 6,\n",
       "         '生产、销售伪劣农药、兽药、化肥、种子': 8,\n",
       "         '非法携带枪支、弹药、管制刀具、危险物品危及公共安全': 27,\n",
       "         '非法行医': 547,\n",
       "         '侮辱': 21,\n",
       "         '以危险方法危害公共安全': 227,\n",
       "         '拐卖妇女、儿童': 185,\n",
       "         '破坏计算机信息系统': 24,\n",
       "         '危险物品肇事': 11,\n",
       "         '爆炸': 78,\n",
       "         '虚开发票': 176,\n",
       "         '非法进行节育手术': 42,\n",
       "         '侵犯著作权': 98,\n",
       "         '过失以危险方法危害公共安全': 36,\n",
       "         '非法获取公民个人信息': 63,\n",
       "         '单位行贿': 286,\n",
       "         '投放危险物质': 106,\n",
       "         '污染环境': 555,\n",
       "         '扰乱无线电通讯管理秩序': 100,\n",
       "         '对非国家工作人员行贿': 55,\n",
       "         '破坏生产经营': 155,\n",
       "         '过失投放危险物质': 13,\n",
       "         '聚众冲击国家机关': 11,\n",
       "         '玩忽职守': 465,\n",
       "         '聚众扰乱社会秩序': 81,\n",
       "         '非法侵入住宅': 323,\n",
       "         '招摇撞骗': 233,\n",
       "         '传播性病': 23,\n",
       "         '销售假冒注册商标的商品': 547,\n",
       "         '非法转让、倒卖土地使用权': 88,\n",
       "         '非法捕捞水产品': 225,\n",
       "         '重大劳动安全事故': 91,\n",
       "         '伪证': 29,\n",
       "         '侵占': 26,\n",
       "         '持有伪造的发票': 122,\n",
       "         '非法处置查封、扣押、冻结的财产': 117,\n",
       "         '盗掘古文化遗址、古墓葬': 90,\n",
       "         '逃税': 46,\n",
       "         '违法发放贷款': 52,\n",
       "         '破坏监管秩序': 20,\n",
       "         '引诱、教唆、欺骗他人吸毒': 29,\n",
       "         '拐骗儿童': 28,\n",
       "         '走私国家禁止进出口的货物、物品': 26,\n",
       "         '诬告陷害': 31,\n",
       "         '对单位行贿': 36,\n",
       "         '重婚': 164,\n",
       "         '编造、故意传播虚假恐怖信息': 29,\n",
       "         '非法出售发票': 33,\n",
       "         '出售、购买、运输假币': 56,\n",
       "         '假冒注册商标': 580,\n",
       "         '持有、使用假币': 90,\n",
       "         '妨害作证': 34,\n",
       "         '走私普通货物、物品': 217,\n",
       "         '走私武器、弹药': 19,\n",
       "         '妨害信用卡管理': 226,\n",
       "         '聚众扰乱公共场所秩序、交通秩序': 34,\n",
       "         '破坏易燃易爆设备': 64,\n",
       "         '冒充军人招摇撞骗': 55,\n",
       "         '伪造、变造金融票证': 34,\n",
       "         '非法制造、销售非法制造的注册商标标识': 21,\n",
       "         '过失损坏广播电视设施、公用电信设施': 12,\n",
       "         '绑架': 124,\n",
       "         '倒卖车票、船票': 6,\n",
       "         '破坏交通设施': 12,\n",
       "         '伪造公司、企业、事业单位、人民团体印章': 405,\n",
       "         '非法制造、买卖、运输、储存危险物质': 11,\n",
       "         '隐匿、故意销毁会计凭证、会计帐簿、财务会计报告': 18,\n",
       "         '伪造、倒卖伪造的有价票证': 7,\n",
       "         '破坏交通工具': 6,\n",
       "         '串通投标': 37,\n",
       "         '走私珍贵动物、珍贵动物制品': 29,\n",
       "         '提供侵入、非法控制计算机信息系统程序、工具': 6,\n",
       "         '遗弃': 39,\n",
       "         '骗取贷款、票据承兑、金融票证': 496,\n",
       "         '倒卖文物': 3,\n",
       "         '制作、复制、出版、贩卖、传播淫秽物品牟利': 55,\n",
       "         '伪造、变造、买卖武装部队公文、证件、印章': 9,\n",
       "         '伪造、变造居民身份证': 55,\n",
       "         '非法买卖制毒物品': 43,\n",
       "         '介绍贿赂': 44,\n",
       "         '非法收购、运输、加工、出售国家重点保护植物、国家重点保护植物制品': 105,\n",
       "         '利用影响力受贿': 18,\n",
       "         '收买被拐卖的妇女、儿童': 10,\n",
       "         '走私废物': 9,\n",
       "         '窝藏、包庇': 460,\n",
       "         '虚报注册资本': 30,\n",
       "         '虐待被监管人': 4,\n",
       "         '强制猥亵、侮辱妇女': 84,\n",
       "         '徇私枉法': 24,\n",
       "         '非法组织卖血': 19,\n",
       "         '非法获取国家秘密': 10,\n",
       "         '非法采伐、毁坏国家重点保护植物': 370,\n",
       "         '窃取、收买、非法提供信用卡信息': 20,\n",
       "         '过失损坏武器装备、军事设施、军事通信': 10,\n",
       "         '盗窃、侮辱尸体': 13,\n",
       "         '招收公务员、学生徇私舞弊': 13,\n",
       "         '非法狩猎': 427,\n",
       "         '猥亵儿童': 202,\n",
       "         '制造、贩卖、传播淫秽物品': 3,\n",
       "         '虐待': 11,\n",
       "         '非法生产、销售间谍专用器材': 20,\n",
       "         '徇私舞弊不移交刑事案件': 7,\n",
       "         '帮助犯罪分子逃避处罚': 24,\n",
       "         '高利转贷': 4,\n",
       "         '非法生产、买卖警用装备': 6,\n",
       "         '强迫交易': 41,\n",
       "         '滥用职权': 237,\n",
       "         '洗钱': 4,\n",
       "         '劫持船只、汽车': 2,\n",
       "         '非法收购、运输、出售珍贵、濒危野生动物、珍贵、濒危野生动物制品': 5,\n",
       "         '打击报复证人': 4,\n",
       "         '强迫劳动': 7,\n",
       "         '非法制造、出售非法制造的发票': 15,\n",
       "         '走私': 3,\n",
       "         '脱逃': 8,\n",
       "         '窝藏、转移、隐瞒毒品、毒赃': 1,\n",
       "         '私分国有资产': 15,\n",
       "         '徇私舞弊不征、少征税款': 1,\n",
       "         '传授犯罪方法': 4,\n",
       "         '强迫他人吸毒': 2,\n",
       "         '帮助毁灭、伪造证据': 11,\n",
       "         '伪造货币': 8,\n",
       "         '聚众哄抢': 2})"
      ]
     },
     "execution_count": 8,
     "metadata": {},
     "output_type": "execute_result"
    }
   ],
   "source": [
    "all_accusation_counter"
   ]
  },
  {
   "cell_type": "code",
   "execution_count": 9,
   "id": "ef1355c99966b48",
   "metadata": {
    "ExecuteTime": {
     "end_time": "2023-11-28T21:08:00.000417Z",
     "start_time": "2023-11-28T21:07:59.998919Z"
    },
    "collapsed": false
   },
   "outputs": [],
   "source": [
    "a = dict(all_accusation_counter)"
   ]
  },
  {
   "cell_type": "code",
   "execution_count": 10,
   "id": "84b0fc9fd531004",
   "metadata": {
    "ExecuteTime": {
     "end_time": "2023-11-28T21:08:00.003314Z",
     "start_time": "2023-11-28T21:08:00.001919Z"
    },
    "collapsed": false
   },
   "outputs": [],
   "source": [
    "accusation_to_idx = {}\n",
    "for number,key in enumerate(a):\n",
    "    accusation_to_idx[key] = number"
   ]
  },
  {
   "cell_type": "code",
   "execution_count": 11,
   "id": "1ee786d922fc8441",
   "metadata": {
    "ExecuteTime": {
     "end_time": "2023-11-28T21:08:00.011291Z",
     "start_time": "2023-11-28T21:08:00.009145Z"
    },
    "collapsed": false
   },
   "outputs": [
    {
     "data": {
      "text/plain": [
       "{'故意伤害': 0,\n",
       " '盗窃': 1,\n",
       " '诈骗': 2,\n",
       " '聚众斗殴': 3,\n",
       " '虚开增值税专用发票、用于骗取出口退税、抵扣税款发票': 4,\n",
       " '强奸': 5,\n",
       " '抢劫': 6,\n",
       " '破坏电力设备': 7,\n",
       " '合同诈骗': 8,\n",
       " '信用卡诈骗': 9,\n",
       " '保险诈骗': 10,\n",
       " '放火': 11,\n",
       " '寻衅滋事': 12,\n",
       " '贷款诈骗': 13,\n",
       " '掩饰、隐瞒犯罪所得、犯罪所得收益': 14,\n",
       " '非法采矿': 15,\n",
       " '过失致人重伤': 16,\n",
       " '生产、销售有毒、有害食品': 17,\n",
       " '危险驾驶': 18,\n",
       " '交通肇事': 19,\n",
       " '走私、贩卖、运输、制造毒品': 20,\n",
       " '故意杀人': 21,\n",
       " '非法经营': 22,\n",
       " '动植物检疫徇私舞弊': 23,\n",
       " '故意毁坏财物': 24,\n",
       " '非法持有毒品': 25,\n",
       " '非法拘禁': 26,\n",
       " '抢夺': 27,\n",
       " '妨害公务': 28,\n",
       " '挪用资金': 29,\n",
       " '票据诈骗': 30,\n",
       " '过失致人死亡': 31,\n",
       " '生产、销售假药': 32,\n",
       " '开设赌场': 33,\n",
       " '非法持有、私藏枪支、弹药': 34,\n",
       " '赌博': 35,\n",
       " '非法种植毒品原植物': 36,\n",
       " '滥伐林木': 37,\n",
       " '生产、销售伪劣产品': 38,\n",
       " '职务侵占': 39,\n",
       " '受贿': 40,\n",
       " '组织、领导传销活动': 41,\n",
       " '敲诈勒索': 42,\n",
       " '贪污': 43,\n",
       " '集资诈骗': 44,\n",
       " '破坏广播电视设施、公用电信设施': 45,\n",
       " '拒不执行判决、裁定': 46,\n",
       " '拒不支付劳动报酬': 47,\n",
       " '非国家工作人员受贿': 48,\n",
       " '单位受贿': 49,\n",
       " '盗伐林木': 50,\n",
       " '生产、销售不符合安全标准的食品': 51,\n",
       " '失火': 52,\n",
       " '非法占用农用地': 53,\n",
       " '非法制造、买卖、运输、邮寄、储存枪支、弹药、爆炸物': 54,\n",
       " '挪用特定款物': 55,\n",
       " '行贿': 56,\n",
       " '窝藏、转移、收购、销售赃物': 57,\n",
       " '容留他人吸毒': 58,\n",
       " '非法吸收公众存款': 59,\n",
       " '非法猎捕、杀害珍贵、濒危野生动物': 60,\n",
       " '重大责任事故': 61,\n",
       " '非法收购、运输盗伐、滥伐的林木': 62,\n",
       " '诽谤': 63,\n",
       " '伪造、变造、买卖国家机关公文、证件、印章': 64,\n",
       " '挪用公款': 65,\n",
       " '金融凭证诈骗': 66,\n",
       " '生产、销售伪劣农药、兽药、化肥、种子': 67,\n",
       " '非法携带枪支、弹药、管制刀具、危险物品危及公共安全': 68,\n",
       " '非法行医': 69,\n",
       " '侮辱': 70,\n",
       " '以危险方法危害公共安全': 71,\n",
       " '拐卖妇女、儿童': 72,\n",
       " '破坏计算机信息系统': 73,\n",
       " '危险物品肇事': 74,\n",
       " '爆炸': 75,\n",
       " '虚开发票': 76,\n",
       " '非法进行节育手术': 77,\n",
       " '侵犯著作权': 78,\n",
       " '过失以危险方法危害公共安全': 79,\n",
       " '非法获取公民个人信息': 80,\n",
       " '单位行贿': 81,\n",
       " '投放危险物质': 82,\n",
       " '污染环境': 83,\n",
       " '扰乱无线电通讯管理秩序': 84,\n",
       " '对非国家工作人员行贿': 85,\n",
       " '破坏生产经营': 86,\n",
       " '过失投放危险物质': 87,\n",
       " '聚众冲击国家机关': 88,\n",
       " '玩忽职守': 89,\n",
       " '聚众扰乱社会秩序': 90,\n",
       " '非法侵入住宅': 91,\n",
       " '招摇撞骗': 92,\n",
       " '传播性病': 93,\n",
       " '销售假冒注册商标的商品': 94,\n",
       " '非法转让、倒卖土地使用权': 95,\n",
       " '非法捕捞水产品': 96,\n",
       " '重大劳动安全事故': 97,\n",
       " '伪证': 98,\n",
       " '侵占': 99,\n",
       " '持有伪造的发票': 100,\n",
       " '非法处置查封、扣押、冻结的财产': 101,\n",
       " '盗掘古文化遗址、古墓葬': 102,\n",
       " '逃税': 103,\n",
       " '违法发放贷款': 104,\n",
       " '破坏监管秩序': 105,\n",
       " '引诱、教唆、欺骗他人吸毒': 106,\n",
       " '拐骗儿童': 107,\n",
       " '走私国家禁止进出口的货物、物品': 108,\n",
       " '诬告陷害': 109,\n",
       " '对单位行贿': 110,\n",
       " '重婚': 111,\n",
       " '编造、故意传播虚假恐怖信息': 112,\n",
       " '非法出售发票': 113,\n",
       " '出售、购买、运输假币': 114,\n",
       " '假冒注册商标': 115,\n",
       " '持有、使用假币': 116,\n",
       " '妨害作证': 117,\n",
       " '走私普通货物、物品': 118,\n",
       " '走私武器、弹药': 119,\n",
       " '妨害信用卡管理': 120,\n",
       " '聚众扰乱公共场所秩序、交通秩序': 121,\n",
       " '破坏易燃易爆设备': 122,\n",
       " '冒充军人招摇撞骗': 123,\n",
       " '伪造、变造金融票证': 124,\n",
       " '非法制造、销售非法制造的注册商标标识': 125,\n",
       " '过失损坏广播电视设施、公用电信设施': 126,\n",
       " '绑架': 127,\n",
       " '倒卖车票、船票': 128,\n",
       " '破坏交通设施': 129,\n",
       " '伪造公司、企业、事业单位、人民团体印章': 130,\n",
       " '非法制造、买卖、运输、储存危险物质': 131,\n",
       " '隐匿、故意销毁会计凭证、会计帐簿、财务会计报告': 132,\n",
       " '伪造、倒卖伪造的有价票证': 133,\n",
       " '破坏交通工具': 134,\n",
       " '串通投标': 135,\n",
       " '走私珍贵动物、珍贵动物制品': 136,\n",
       " '提供侵入、非法控制计算机信息系统程序、工具': 137,\n",
       " '遗弃': 138,\n",
       " '骗取贷款、票据承兑、金融票证': 139,\n",
       " '倒卖文物': 140,\n",
       " '制作、复制、出版、贩卖、传播淫秽物品牟利': 141,\n",
       " '伪造、变造、买卖武装部队公文、证件、印章': 142,\n",
       " '伪造、变造居民身份证': 143,\n",
       " '非法买卖制毒物品': 144,\n",
       " '介绍贿赂': 145,\n",
       " '非法收购、运输、加工、出售国家重点保护植物、国家重点保护植物制品': 146,\n",
       " '利用影响力受贿': 147,\n",
       " '收买被拐卖的妇女、儿童': 148,\n",
       " '走私废物': 149,\n",
       " '窝藏、包庇': 150,\n",
       " '虚报注册资本': 151,\n",
       " '虐待被监管人': 152,\n",
       " '强制猥亵、侮辱妇女': 153,\n",
       " '徇私枉法': 154,\n",
       " '非法组织卖血': 155,\n",
       " '非法获取国家秘密': 156,\n",
       " '非法采伐、毁坏国家重点保护植物': 157,\n",
       " '窃取、收买、非法提供信用卡信息': 158,\n",
       " '过失损坏武器装备、军事设施、军事通信': 159,\n",
       " '盗窃、侮辱尸体': 160,\n",
       " '招收公务员、学生徇私舞弊': 161,\n",
       " '非法狩猎': 162,\n",
       " '猥亵儿童': 163,\n",
       " '制造、贩卖、传播淫秽物品': 164,\n",
       " '虐待': 165,\n",
       " '非法生产、销售间谍专用器材': 166,\n",
       " '徇私舞弊不移交刑事案件': 167,\n",
       " '帮助犯罪分子逃避处罚': 168,\n",
       " '高利转贷': 169,\n",
       " '非法生产、买卖警用装备': 170,\n",
       " '强迫交易': 171,\n",
       " '滥用职权': 172,\n",
       " '洗钱': 173,\n",
       " '劫持船只、汽车': 174,\n",
       " '非法收购、运输、出售珍贵、濒危野生动物、珍贵、濒危野生动物制品': 175,\n",
       " '打击报复证人': 176,\n",
       " '强迫劳动': 177,\n",
       " '非法制造、出售非法制造的发票': 178,\n",
       " '走私': 179,\n",
       " '脱逃': 180,\n",
       " '窝藏、转移、隐瞒毒品、毒赃': 181,\n",
       " '私分国有资产': 182,\n",
       " '徇私舞弊不征、少征税款': 183,\n",
       " '传授犯罪方法': 184,\n",
       " '强迫他人吸毒': 185,\n",
       " '帮助毁灭、伪造证据': 186,\n",
       " '伪造货币': 187,\n",
       " '聚众哄抢': 188}"
      ]
     },
     "execution_count": 11,
     "metadata": {},
     "output_type": "execute_result"
    }
   ],
   "source": [
    "accusation_to_idx"
   ]
  },
  {
   "cell_type": "code",
   "execution_count": 12,
   "id": "2418ab4516d30997",
   "metadata": {
    "ExecuteTime": {
     "end_time": "2023-11-28T21:08:00.029452Z",
     "start_time": "2023-11-28T21:08:00.027986Z"
    },
    "collapsed": false
   },
   "outputs": [],
   "source": [
    "all_article= [art for i in final_train_data for art in i['meta']['relevant_articles']]\n",
    "all_article_counter = Counter(all_article)"
   ]
  },
  {
   "cell_type": "code",
   "execution_count": 13,
   "id": "b9a3235cec2db82a",
   "metadata": {
    "ExecuteTime": {
     "end_time": "2023-11-28T21:08:00.046966Z",
     "start_time": "2023-11-28T21:08:00.030520Z"
    },
    "collapsed": false
   },
   "outputs": [],
   "source": [
    "articles = dict(all_article_counter)"
   ]
  },
  {
   "cell_type": "code",
   "execution_count": 14,
   "id": "cc8fbd837dba136f",
   "metadata": {
    "ExecuteTime": {
     "end_time": "2023-11-28T21:08:00.047146Z",
     "start_time": "2023-11-28T21:08:00.032960Z"
    },
    "collapsed": false
   },
   "outputs": [],
   "source": [
    "article_to_idx = {}\n",
    "for number,key in enumerate(articles):\n",
    "    article_to_idx[key] = number"
   ]
  },
  {
   "cell_type": "code",
   "execution_count": 15,
   "id": "81f75bdcbb1c7e06",
   "metadata": {
    "ExecuteTime": {
     "end_time": "2023-11-28T21:08:00.047300Z",
     "start_time": "2023-11-28T21:08:00.037516Z"
    },
    "collapsed": false
   },
   "outputs": [],
   "source": [
    "with open('../data/cail_small/accusation_to_idx.json','w',encoding='utf-8') as f:\n",
    "    json.dump(accusation_to_idx,f,ensure_ascii=False,indent=4)"
   ]
  },
  {
   "cell_type": "code",
   "execution_count": 16,
   "id": "93244604485158f1",
   "metadata": {
    "ExecuteTime": {
     "end_time": "2023-11-28T21:08:00.047332Z",
     "start_time": "2023-11-28T21:08:00.040109Z"
    },
    "collapsed": false
   },
   "outputs": [],
   "source": [
    "with open('../data/cail_small/article_to_idx.json','w',encoding='utf-8') as f:\n",
    "    json.dump(article_to_idx,f,ensure_ascii=False,indent=4)"
   ]
  },
  {
   "cell_type": "markdown",
   "id": "93fbbc886cb09a36",
   "metadata": {
    "collapsed": false
   },
   "source": [
    "<b>处理验证集和测试集，逻辑和上述差不多</b>"
   ]
  },
  {
   "cell_type": "code",
   "execution_count": 17,
   "id": "9233259cfaef5c41",
   "metadata": {
    "ExecuteTime": {
     "end_time": "2023-11-28T21:08:00.052128Z",
     "start_time": "2023-11-28T21:08:00.048207Z"
    },
    "collapsed": false
   },
   "outputs": [],
   "source": [
    "def process_dataset(filename):\n",
    "    full_filename = '../data/cail_small/' + filename\n",
    "    with open(full_filename,'r',encoding='utf-8') as f:\n",
    "        all_data = []\n",
    "        for line in f.readlines():\n",
    "            line = line.replace('\\n','')\n",
    "            all_data.append(json.loads(line))\n",
    "    \n",
    "    final_data = []\n",
    "    for i in all_data:\n",
    "        if len(i['meta']['accusation']) == 1:\n",
    "            i['meta']['accusation'][0] = i['meta']['accusation'][0].replace('[','').replace(']','')\n",
    "            #保证测试集的法条和罪名都在训练集中出现过\n",
    "            articles_in_list = True\n",
    "            for art in i['meta']['relevant_articles']:\n",
    "                if art not in article_to_idx:\n",
    "                    articles_in_list = False\n",
    "            if i['meta']['accusation'][0] in accusation_to_idx and articles_in_list:\n",
    "                final_data.append(i)    \n",
    "    with open('../data/cail_small/final_'+filename,'w',encoding='utf-8') as f:\n",
    "        for line in final_data:\n",
    "            j = json.dumps(line,ensure_ascii=False)\n",
    "            f.write(j+'\\n')\n",
    "    return final_data"
   ]
  },
  {
   "cell_type": "code",
   "execution_count": 18,
   "id": "5480939c53e682f7",
   "metadata": {
    "ExecuteTime": {
     "end_time": "2023-11-28T21:08:01.188083Z",
     "start_time": "2023-11-28T21:08:00.050848Z"
    },
    "collapsed": false
   },
   "outputs": [],
   "source": [
    "valid = process_dataset('valid.json')\n",
    "test = process_dataset('test.json')"
   ]
  }
 ],
 "metadata": {
  "kernelspec": {
   "display_name": "Python 3",
   "language": "python",
   "name": "python3"
  },
  "language_info": {
   "codemirror_mode": {
    "name": "ipython",
    "version": 3
   },
   "file_extension": ".py",
   "mimetype": "text/x-python",
   "name": "python",
   "nbconvert_exporter": "python",
   "pygments_lexer": "ipython3",
   "version": "3.8.19"
  }
 },
 "nbformat": 4,
 "nbformat_minor": 5
}
